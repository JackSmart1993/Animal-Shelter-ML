{
 "cells": [
  {
   "cell_type": "code",
   "execution_count": 1,
   "metadata": {},
   "outputs": [],
   "source": [
    "#Austin Animal Shelter Analysis."
   ]
  },
  {
   "cell_type": "code",
   "execution_count": 2,
   "metadata": {},
   "outputs": [],
   "source": [
    "#Import relevant modules\n",
    "\n",
    "import pandas as pd\n",
    "import numpy as np\n",
    "import matplotlib.pyplot as plt\n",
    "import seaborn as sns\n",
    "%matplotlib inline"
   ]
  },
  {
   "cell_type": "code",
   "execution_count": 3,
   "metadata": {},
   "outputs": [
    {
     "name": "stdout",
     "output_type": "stream",
     "text": [
      "<class 'pandas.core.frame.DataFrame'>\n",
      "RangeIndex: 26729 entries, 0 to 26728\n",
      "Data columns (total 10 columns):\n",
      "AnimalID          26729 non-null object\n",
      "Name              19038 non-null object\n",
      "DateTime          26729 non-null object\n",
      "OutcomeType       26729 non-null object\n",
      "OutcomeSubtype    13117 non-null object\n",
      "AnimalType        26729 non-null object\n",
      "SexuponOutcome    26728 non-null object\n",
      "AgeuponOutcome    26711 non-null object\n",
      "Breed             26729 non-null object\n",
      "Color             26729 non-null object\n",
      "dtypes: object(10)\n",
      "memory usage: 2.0+ MB\n",
      "<class 'pandas.core.frame.DataFrame'>\n",
      "RangeIndex: 11456 entries, 0 to 11455\n",
      "Data columns (total 8 columns):\n",
      "ID                11456 non-null int64\n",
      "Name              8231 non-null object\n",
      "DateTime          11456 non-null object\n",
      "AnimalType        11456 non-null object\n",
      "SexuponOutcome    11456 non-null object\n",
      "AgeuponOutcome    11450 non-null object\n",
      "Breed             11456 non-null object\n",
      "Color             11456 non-null object\n",
      "dtypes: int64(1), object(7)\n",
      "memory usage: 716.1+ KB\n",
      "The percentage of training data is 0.699986905853\n"
     ]
    }
   ],
   "source": [
    "#Read in the data\n",
    "\n",
    "train = 'train.csv'\n",
    "test = 'test.csv'\n",
    "\n",
    "train = pd.read_csv(train)\n",
    "test = pd.read_csv(test)\n",
    "\n",
    "train.info()\n",
    "test.info()\n",
    "\n",
    "print(\"The percentage of training data is \" + str(train['AnimalID'].count() / (test['ID'].count() + train['AnimalID'].count())))\n"
   ]
  },
  {
   "cell_type": "code",
   "execution_count": 4,
   "metadata": {},
   "outputs": [
    {
     "name": "stdout",
     "output_type": "stream",
     "text": [
      "<class 'pandas.core.frame.DataFrame'>\n",
      "RangeIndex: 26729 entries, 0 to 26728\n",
      "Data columns (total 9 columns):\n",
      "AnimalID          26729 non-null object\n",
      "Name              19038 non-null object\n",
      "DateTime          26729 non-null object\n",
      "OutcomeType       26729 non-null object\n",
      "AnimalType        26729 non-null object\n",
      "SexuponOutcome    26728 non-null object\n",
      "AgeuponOutcome    26711 non-null object\n",
      "Breed             26729 non-null object\n",
      "Color             26729 non-null object\n",
      "dtypes: object(9)\n",
      "memory usage: 1.8+ MB\n"
     ]
    }
   ],
   "source": [
    "#Are the columns of both data sets the same?\n",
    "#We see that the test data set has a different column, Outcome subtype. If we do not have this for our test data then it will be not\n",
    "#Be useful for machine learning. Lets drop this and also rename the 'ID' column so that it matches the training data.\n",
    "\n",
    "train = train.drop(columns='OutcomeSubtype')\n",
    "train.info()\n"
   ]
  },
  {
   "cell_type": "code",
   "execution_count": 5,
   "metadata": {},
   "outputs": [
    {
     "name": "stdout",
     "output_type": "stream",
     "text": [
      "<class 'pandas.core.frame.DataFrame'>\n",
      "RangeIndex: 11456 entries, 0 to 11455\n",
      "Data columns (total 8 columns):\n",
      "AnimalID          11456 non-null int64\n",
      "Name              8231 non-null object\n",
      "DateTime          11456 non-null object\n",
      "AnimalType        11456 non-null object\n",
      "SexuponOutcome    11456 non-null object\n",
      "AgeuponOutcome    11450 non-null object\n",
      "Breed             11456 non-null object\n",
      "Color             11456 non-null object\n",
      "dtypes: int64(1), object(7)\n",
      "memory usage: 716.1+ KB\n"
     ]
    }
   ],
   "source": [
    "test = test.rename(columns = {'ID':'AnimalID'})\n",
    "test.info()"
   ]
  },
  {
   "cell_type": "code",
   "execution_count": 6,
   "metadata": {},
   "outputs": [
    {
     "name": "stdout",
     "output_type": "stream",
     "text": [
      "[1.0, 0.71226009203486851, 1.0, 1.0, 0.99996258745183131, 0.99932657413296422, 1.0, 1.0]\n"
     ]
    }
   ],
   "source": [
    "#Lets view the number of missing values per variable. This should show what rows we should be able to drop without losing signal.\n",
    "train_cols = ['AnimalID','Name','DateTime','AnimalType','SexuponOutcome','AgeuponOutcome','Breed','Color']\n",
    "\n",
    "perc_of_missing = []\n",
    "\n",
    "for x in train_cols:\n",
    "    perc = train[x].count() / train['AnimalID'].count()\n",
    "    perc_of_missing.append(perc)\n",
    "    \n",
    "    \n",
    "print(perc_of_missing)"
   ]
  },
  {
   "cell_type": "code",
   "execution_count": 7,
   "metadata": {},
   "outputs": [
    {
     "name": "stdout",
     "output_type": "stream",
     "text": [
      "[1.0, 0.71272931486334701, 1.0, 1.0, 1.0, 1.0, 1.0, 1.0]\n"
     ]
    }
   ],
   "source": [
    "train = train.dropna(axis=0,subset=['SexuponOutcome','AgeuponOutcome'])\n",
    "\n",
    "\n",
    "perc_of_missing1 = []\n",
    "\n",
    "for x in train_cols:\n",
    "    perc = train[x].count() / train['AnimalID'].count()\n",
    "    perc_of_missing1.append(perc)\n",
    "    \n",
    "    \n",
    "print(perc_of_missing1)\n"
   ]
  },
  {
   "cell_type": "code",
   "execution_count": 8,
   "metadata": {},
   "outputs": [
    {
     "name": "stdout",
     "output_type": "stream",
     "text": [
      "[1.0, 0.71848812849162014, 1.0, 1.0, 1.0, 0.99947625698324027, 1.0, 1.0]\n"
     ]
    }
   ],
   "source": [
    "#Now we need to do the same for the test data.\n",
    "\n",
    "test_cols = ['AnimalID','Name','DateTime','AnimalType','SexuponOutcome','AgeuponOutcome','Breed','Color']\n",
    "\n",
    "perc_of_missing2 = []\n",
    "\n",
    "for x in test_cols:\n",
    "    perc = test[x].count() / test['AnimalID'].count()\n",
    "    perc_of_missing2.append(perc)\n",
    "    \n",
    "    \n",
    "print(perc_of_missing2)\n"
   ]
  },
  {
   "cell_type": "code",
   "execution_count": 9,
   "metadata": {},
   "outputs": [
    {
     "name": "stdout",
     "output_type": "stream",
     "text": [
      "<class 'pandas.core.frame.DataFrame'>\n",
      "RangeIndex: 11456 entries, 0 to 11455\n",
      "Data columns (total 8 columns):\n",
      "AnimalID          11456 non-null int64\n",
      "Name              8231 non-null object\n",
      "DateTime          11456 non-null object\n",
      "AnimalType        11456 non-null object\n",
      "SexuponOutcome    11456 non-null object\n",
      "AgeuponOutcome    11456 non-null object\n",
      "Breed             11456 non-null object\n",
      "Color             11456 non-null object\n",
      "dtypes: int64(1), object(7)\n",
      "memory usage: 716.1+ KB\n"
     ]
    }
   ],
   "source": [
    "#Lets inspect 'Ageuponoutcome' and fill appropriately\n",
    "\n",
    "test['AgeuponOutcome'].value_counts()\n",
    "\n",
    "#Lets change the test data to the mode for this variable.\n",
    "\n",
    "test['AgeuponOutcome'].fillna('1 year',inplace = True)\n",
    "\n",
    "test.info()"
   ]
  },
  {
   "cell_type": "code",
   "execution_count": 10,
   "metadata": {},
   "outputs": [
    {
     "name": "stdout",
     "output_type": "stream",
     "text": [
      "  AnimalID     Name             DateTime      OutcomeType AnimalType  \\\n",
      "0  A671945  Hambone  2014-02-12 18:22:00  Return_to_owner        Dog   \n",
      "1  A656520    Emily  2013-10-13 12:44:00       Euthanasia        Cat   \n",
      "2  A686464   Pearce  2015-01-31 12:28:00         Adoption        Dog   \n",
      "3  A683430      NaN  2014-07-11 19:09:00         Transfer        Cat   \n",
      "4  A667013      NaN  2013-11-15 12:52:00         Transfer        Dog   \n",
      "\n",
      "  SexuponOutcome AgeuponOutcome                        Breed        Color  \n",
      "0  Neutered Male         1 year        Shetland Sheepdog Mix  Brown/White  \n",
      "1  Spayed Female         1 year       Domestic Shorthair Mix  Cream Tabby  \n",
      "2  Neutered Male        2 years                 Pit Bull Mix   Blue/White  \n",
      "3    Intact Male        3 weeks       Domestic Shorthair Mix   Blue Cream  \n",
      "4  Neutered Male        2 years  Lhasa Apso/Miniature Poodle          Tan  \n",
      "Index(['AnimalID', 'Name', 'DateTime', 'OutcomeType', 'AnimalType',\n",
      "       'SexuponOutcome', 'AgeuponOutcome', 'Breed', 'Color'],\n",
      "      dtype='object')\n"
     ]
    }
   ],
   "source": [
    "#Overall split of the data is around 70% training and 30% test\n",
    "print(train.head())\n",
    "print(train.columns)\n"
   ]
  },
  {
   "cell_type": "code",
   "execution_count": 11,
   "metadata": {},
   "outputs": [
    {
     "name": "stdout",
     "output_type": "stream",
     "text": [
      "                 OutcomeType  percentage\n",
      "Adoption               10769    0.403182\n",
      "Transfer                9406    0.352153\n",
      "Return_to_owner         4785    0.179146\n",
      "Euthanasia              1553    0.058143\n",
      "Died                     197    0.007376\n"
     ]
    },
    {
     "data": {
      "image/png": "[encoded data removed]",
      "text/plain": [
       "<matplotlib.figure.Figure at 0x241efc85438>"
      ]
     },
     "metadata": {},
     "output_type": "display_data"
    },
    {
     "data": {
      "image/png": "[encoded data removed]",
      "text/plain": [
       "<matplotlib.figure.Figure at 0x241efd821d0>"
      ]
     },
     "metadata": {},
     "output_type": "display_data"
    },
    {
     "name": "stdout",
     "output_type": "stream",
     "text": [
      "                 OutcomeType  percentage\n",
      "Transfer                4909    0.639776\n",
      "Adoption                1678    0.218689\n",
      "Euthanasia               813    0.105956\n",
      "Return_to_owner          153    0.019940\n",
      "Died                     120    0.015639\n"
     ]
    }
   ],
   "source": [
    "#OutcomeType is the target variable we are trying to predict here. Lets analyse their values to get an idea.\n",
    "\n",
    "train['OutcomeType'].value_counts().plot(kind='bar')\n",
    "\n",
    "reasons_for_leaving = pd.DataFrame(train['OutcomeType'].value_counts())\n",
    "\n",
    "reasons_for_leaving['percentage'] = reasons_for_leaving['OutcomeType'] / reasons_for_leaving['OutcomeType'].sum()\n",
    "\n",
    "print(reasons_for_leaving)\n",
    "\n",
    "\n",
    "plt.show()\n",
    "\n",
    "#The options for leaving the shelter are below, with Adoption and return to owner being success and transfer moving to another shelter.\n",
    "no_name_animals = train[train['Name'].isnull()]\n",
    "no_name_animals.head()\n",
    "\n",
    "no_name_animals['OutcomeType'].value_counts().plot(kind='bar')\n",
    "\n",
    "plt.show()\n",
    "\n",
    "reasons_for_leaving2 = pd.DataFrame(no_name_animals['OutcomeType'].value_counts())\n",
    "\n",
    "reasons_for_leaving2['percentage'] = reasons_for_leaving2['OutcomeType'] / reasons_for_leaving2['OutcomeType'].sum()\n",
    "\n",
    "print(reasons_for_leaving2)\n",
    "\n",
    "\n",
    "#The above shows that an animal not having a name means it is much more likely to be transferred than the standard population.coming\n",
    "#in at 62% vs the population of 35%.\n",
    "\n"
   ]
  },
  {
   "cell_type": "code",
   "execution_count": 12,
   "metadata": {},
   "outputs": [
    {
     "name": "stdout",
     "output_type": "stream",
     "text": [
      "The percentage of the animals with names is 0.712729314863. Dropping these would elimate a large number of our training data. We should impute them.\n"
     ]
    }
   ],
   "source": [
    "#Analysing name? Why do so many animals have missing names? Does this impact the chances of rehoming? What should we do with\n",
    "#The names when we want to use them for machine learning? What algorithms should we use?\n",
    "#There is some clear signal in the missing names here. We should rename them to the same label to ensure we are capturing these.\n",
    "#Dropping them would be \n",
    "\n",
    "print(\"The percentage of the animals with names is \" + str(train['Name'].count() / train['AnimalID'].count()) + \". Dropping these would elimate a large number of our training data. We should impute them.\")\n",
    "\n"
   ]
  },
  {
   "cell_type": "code",
   "execution_count": 13,
   "metadata": {},
   "outputs": [
    {
     "name": "stdout",
     "output_type": "stream",
     "text": [
      "<class 'pandas.core.frame.DataFrame'>\n",
      "Int64Index: 26710 entries, 0 to 26728\n",
      "Data columns (total 9 columns):\n",
      "AnimalID          26710 non-null object\n",
      "Name              26710 non-null object\n",
      "DateTime          26710 non-null object\n",
      "OutcomeType       26710 non-null object\n",
      "AnimalType        26710 non-null object\n",
      "SexuponOutcome    26710 non-null object\n",
      "AgeuponOutcome    26710 non-null object\n",
      "Breed             26710 non-null object\n",
      "Color             26710 non-null object\n",
      "dtypes: object(9)\n",
      "memory usage: 2.0+ MB\n",
      "<class 'pandas.core.frame.DataFrame'>\n",
      "RangeIndex: 11456 entries, 0 to 11455\n",
      "Data columns (total 8 columns):\n",
      "AnimalID          11456 non-null int64\n",
      "Name              11456 non-null object\n",
      "DateTime          11456 non-null object\n",
      "AnimalType        11456 non-null object\n",
      "SexuponOutcome    11456 non-null object\n",
      "AgeuponOutcome    11456 non-null object\n",
      "Breed             11456 non-null object\n",
      "Color             11456 non-null object\n",
      "dtypes: int64(1), object(7)\n",
      "memory usage: 716.1+ KB\n"
     ]
    }
   ],
   "source": [
    "#Lets change the NaN names to a standard 'No Name'. We should do this for both training and test data sets.\n",
    "\n",
    "\n",
    "train['Name'].fillna('No Name',inplace = True)\n",
    "test['Name'].fillna('No Name', inplace = True)\n",
    "\n",
    "train.info()\n",
    "test.info()"
   ]
  },
  {
   "cell_type": "code",
   "execution_count": 14,
   "metadata": {},
   "outputs": [
    {
     "name": "stdout",
     "output_type": "stream",
     "text": [
      "No Name         7673\n",
      "Max              136\n",
      "Bella            135\n",
      "Charlie          107\n",
      "Daisy            106\n",
      "Lucy              94\n",
      "Buddy             87\n",
      "Princess          86\n",
      "Rocky             85\n",
      "Luna              68\n",
      "Jack              66\n",
      "Lola              61\n",
      "Sadie             58\n",
      "Molly             57\n",
      "Shadow            57\n",
      "Coco              55\n",
      "Maggie            55\n",
      "Chico             54\n",
      "Lily              53\n",
      "Oreo              53\n",
      "Blue              52\n",
      "Lucky             51\n",
      "Toby              50\n",
      "Cookie            48\n",
      "Ginger            48\n",
      "Lady              47\n",
      "Sam               46\n",
      "Duke              45\n",
      "Milo              44\n",
      "Oliver            44\n",
      "                ... \n",
      "Aden               1\n",
      "Ceelo              1\n",
      "Slider             1\n",
      "Sputnik            1\n",
      "Mitch Zuniga       1\n",
      "Spartus            1\n",
      "Moonshine          1\n",
      "Laurn              1\n",
      "Porches            1\n",
      "Chica Loca         1\n",
      "Laney              1\n",
      "Daryl              1\n",
      "Sledge             1\n",
      "Little Ricky       1\n",
      "Meechum            1\n",
      "Mimzy              1\n",
      "Annelise           1\n",
      "Bartleby           1\n",
      "Sofi               1\n",
      "Shichiroji         1\n",
      "Doljah             1\n",
      "Quixote            1\n",
      "Tangelo            1\n",
      "Suzi               1\n",
      "Bryson             1\n",
      "Konoa              1\n",
      "Trudge             1\n",
      "Makita             1\n",
      "Kokomo             1\n",
      "Clams              1\n",
      "Name: Name, Length: 6375, dtype: int64\n",
      "2015-08-11 00:00:00    19\n",
      "2015-11-17 00:00:00    17\n",
      "2015-07-02 00:00:00    13\n",
      "2015-04-02 00:00:00    11\n",
      "2014-08-31 09:00:00    10\n",
      "2014-08-26 09:00:00     9\n",
      "2015-11-23 00:00:00     9\n",
      "2015-09-11 00:00:00     9\n",
      "2016-02-15 00:00:00     9\n",
      "2015-08-03 00:00:00     8\n",
      "2014-06-21 09:00:00     8\n",
      "2014-09-06 09:00:00     8\n",
      "2014-08-17 09:00:00     8\n",
      "2015-07-26 09:00:00     8\n",
      "2014-07-16 09:00:00     8\n",
      "2015-11-08 00:00:00     8\n",
      "2015-06-19 00:00:00     8\n",
      "2015-09-01 00:00:00     8\n",
      "2015-04-20 14:08:00     7\n",
      "2015-05-31 00:00:00     7\n",
      "2015-07-03 09:00:00     7\n",
      "2014-12-27 11:09:00     7\n",
      "2014-04-26 15:31:00     7\n",
      "2015-10-19 09:00:00     7\n",
      "2016-02-07 00:00:00     7\n",
      "2014-11-05 09:00:00     7\n",
      "2015-08-02 09:00:00     7\n",
      "2014-05-03 16:15:00     7\n",
      "2015-04-25 09:00:00     7\n",
      "2014-08-16 09:00:00     7\n",
      "                       ..\n",
      "2015-04-17 11:47:00     1\n",
      "2014-03-10 17:25:00     1\n",
      "2014-08-18 12:24:00     1\n",
      "2016-01-03 17:59:00     1\n",
      "2015-08-11 17:30:00     1\n",
      "2014-04-26 11:32:00     1\n",
      "2016-01-04 11:06:00     1\n",
      "2014-12-18 13:36:00     1\n",
      "2015-05-03 18:43:00     1\n",
      "2014-11-21 11:30:00     1\n",
      "2015-02-04 18:01:00     1\n",
      "2013-11-23 12:43:00     1\n",
      "2015-11-05 15:22:00     1\n",
      "2015-06-12 16:58:00     1\n",
      "2013-10-30 17:20:00     1\n",
      "2015-02-07 13:04:00     1\n",
      "2014-11-12 11:52:00     1\n",
      "2015-07-18 14:30:00     1\n",
      "2014-12-24 16:16:00     1\n",
      "2014-07-22 18:09:00     1\n",
      "2015-12-16 18:13:00     1\n",
      "2013-10-06 18:19:00     1\n",
      "2014-07-14 16:17:00     1\n",
      "2014-12-18 19:24:00     1\n",
      "2015-06-27 16:44:00     1\n",
      "2014-01-05 19:28:00     1\n",
      "2015-09-21 18:05:00     1\n",
      "2014-11-14 09:15:00     1\n",
      "2015-03-23 11:38:00     1\n",
      "2014-04-03 08:34:00     1\n",
      "Name: DateTime, Length: 22906, dtype: int64\n",
      "Dog    15593\n",
      "Cat    11117\n",
      "Name: AnimalType, dtype: int64\n",
      "Neutered Male    9779\n",
      "Spayed Female    8819\n",
      "Intact Male      3519\n",
      "Intact Female    3504\n",
      "Unknown          1089\n",
      "Name: SexuponOutcome, dtype: int64\n",
      "1 year       3969\n",
      "2 years      3742\n",
      "2 months     3397\n",
      "3 years      1823\n",
      "1 month      1281\n",
      "3 months     1277\n",
      "4 years      1071\n",
      "5 years       992\n",
      "4 months      888\n",
      "6 years       670\n",
      "3 weeks       659\n",
      "5 months      652\n",
      "6 months      588\n",
      "8 years       536\n",
      "7 years       530\n",
      "2 weeks       529\n",
      "10 months     457\n",
      "10 years      446\n",
      "8 months      402\n",
      "4 weeks       334\n",
      "9 years       288\n",
      "7 months      288\n",
      "12 years      234\n",
      "9 months      224\n",
      "1 weeks       171\n",
      "11 months     166\n",
      "1 week        146\n",
      "13 years      143\n",
      "11 years      126\n",
      "3 days        109\n",
      "2 days         99\n",
      "14 years       97\n",
      "15 years       85\n",
      "1 day          66\n",
      "4 days         50\n",
      "6 days         50\n",
      "16 years       36\n",
      "5 days         24\n",
      "0 years        22\n",
      "17 years       17\n",
      "5 weeks        11\n",
      "18 years       10\n",
      "19 years        3\n",
      "20 years        2\n",
      "Name: AgeuponOutcome, dtype: int64\n",
      "Domestic Shorthair Mix                             8794\n",
      "Pit Bull Mix                                       1906\n",
      "Chihuahua Shorthair Mix                            1766\n",
      "Labrador Retriever Mix                             1363\n",
      "Domestic Medium Hair Mix                            839\n",
      "German Shepherd Mix                                 575\n",
      "Domestic Longhair Mix                               519\n",
      "Siamese Mix                                         389\n",
      "Australian Cattle Dog Mix                           367\n",
      "Dachshund Mix                                       318\n",
      "Boxer Mix                                           245\n",
      "Miniature Poodle Mix                                233\n",
      "Border Collie Mix                                   229\n",
      "Australian Shepherd Mix                             163\n",
      "Catahoula Mix                                       157\n",
      "Rat Terrier Mix                                     157\n",
      "Jack Russell Terrier Mix                            146\n",
      "Yorkshire Terrier Mix                               143\n",
      "Domestic Shorthair                                  143\n",
      "Chihuahua Longhair Mix                              142\n",
      "Siberian Husky Mix                                  138\n",
      "Miniature Schnauzer Mix                             136\n",
      "Beagle Mix                                          124\n",
      "Rottweiler Mix                                      113\n",
      "American Bulldog Mix                                109\n",
      "Cairn Terrier Mix                                   102\n",
      "Shih Tzu Mix                                        100\n",
      "Chihuahua Shorthair/Dachshund                        98\n",
      "Australian Kelpie Mix                                95\n",
      "Staffordshire Mix                                    94\n",
      "                                                   ... \n",
      "Great Dane/Pit Bull                                   1\n",
      "Queensland Heeler/Chihuahua Shorthair                 1\n",
      "Belgian Tervuren Mix                                  1\n",
      "Cardigan Welsh Corgi/Australian Kelpie                1\n",
      "Jack Russell Terrier/Pointer                          1\n",
      "Pointer/Jack Russell Terrier                          1\n",
      "Labrador Retriever/Labrador Retriever                 1\n",
      "Beagle/Australian Cattle Dog                          1\n",
      "American Staffordshire Terrier/Plott Hound            1\n",
      "Shetland Sheepdog/Cavalier Span                       1\n",
      "Great Dane/German Shepherd                            1\n",
      "French Bulldog                                        1\n",
      "American Staffordshire Terrier/American Bulldog       1\n",
      "Weimaraner/Pit Bull                                   1\n",
      "Labrador Retriever/Weimaraner                         1\n",
      "Chihuahua Longhair/West Highland                      1\n",
      "Soft Coated Wheaten Terrier/Yorkshire Terrier         1\n",
      "Cardigan Welsh Corgi                                  1\n",
      "Rat Terrier/Jack Russell Terrier                      1\n",
      "Boston Terrier/Labrador Retriever                     1\n",
      "Border Terrier/Shih Tzu                               1\n",
      "Greyhound/Dalmatian                                   1\n",
      "Akita/Labrador Retriever                              1\n",
      "Pembroke Welsh Corgi/Brittany                         1\n",
      "Manx                                                  1\n",
      "Black/Tan Hound/German Shepherd                       1\n",
      "Golden Retriever/Dachshund                            1\n",
      "Doberman Pinsch/Australian Cattle Dog                 1\n",
      "Dachshund Longhair/Pembroke Welsh Corgi               1\n",
      "Spinone Italiano Mix                                  1\n",
      "Name: Breed, Length: 1380, dtype: int64\n",
      "Black/White                2824\n",
      "Black                      2288\n",
      "Brown Tabby                1631\n",
      "Brown Tabby/White           939\n",
      "White                       930\n",
      "Brown/White                 884\n",
      "Orange Tabby                841\n",
      "Tan/White                   773\n",
      "Tricolor                    752\n",
      "Blue/White                  702\n",
      "Black/Tan                   672\n",
      "White/Black                 643\n",
      "Brown                       639\n",
      "Tan                         628\n",
      "White/Brown                 569\n",
      "Tortie                      529\n",
      "Calico                      517\n",
      "Orange Tabby/White          455\n",
      "Brown Brindle/White         450\n",
      "Blue                        449\n",
      "Black/Brown                 436\n",
      "Blue Tabby                  433\n",
      "White/Tan                   389\n",
      "Red                         337\n",
      "Torbie                      334\n",
      "Brown/Black                 333\n",
      "Red/White                   331\n",
      "Blue Tabby/White            239\n",
      "Brown Brindle               232\n",
      "Chocolate/White             224\n",
      "                           ... \n",
      "Orange Tabby/Orange           1\n",
      "Yellow Brindle/Blue           1\n",
      "Tricolor/Calico               1\n",
      "Tortie/Black Smoke            1\n",
      "Brown Merle/Blue Merle        1\n",
      "Brown/Black Tabby             1\n",
      "Blue Tabby/Orange             1\n",
      "Calico/Orange Tabby           1\n",
      "Blue Cream/Blue Tabby         1\n",
      "Gold/Buff                     1\n",
      "Brown Tabby/Brown             1\n",
      "Gray Tabby/Black              1\n",
      "Agouti/Brown Tabby            1\n",
      "Red Tick/Brown                1\n",
      "Black Smoke/Brown Tabby       1\n",
      "Chocolate/Gray                1\n",
      "Cream/Red                     1\n",
      "Torbie/Blue Cream             1\n",
      "Black Brindle/Black           1\n",
      "Blue/Brown                    1\n",
      "Brown/Blue Smoke              1\n",
      "White/Calico                  1\n",
      "Chocolate/Brown Merle         1\n",
      "Brown Brindle/Blue            1\n",
      "Brown/Silver                  1\n",
      "Calico/Blue Tabby             1\n",
      "Blue Cream/Buff               1\n",
      "Red/Gold                      1\n",
      "Yellow/Yellow                 1\n",
      "Blue Tabby/Blue Cream         1\n",
      "Name: Color, Length: 366, dtype: int64\n"
     ]
    }
   ],
   "source": [
    "#Both datasets are not complete with information. Lets explore some of the other variables to check if they are sufficient.\n",
    "\n",
    "train_cols_noID = ['Name','DateTime','AnimalType','SexuponOutcome','AgeuponOutcome','Breed','Color']\n",
    "\n",
    "for x in train_cols_noID:\n",
    "    print(train[x].value_counts())\n"
   ]
  },
  {
   "cell_type": "code",
   "execution_count": 15,
   "metadata": {},
   "outputs": [
    {
     "name": "stdout",
     "output_type": "stream",
     "text": [
      "<class 'pandas.core.frame.DataFrame'>\n",
      "Int64Index: 26710 entries, 0 to 26728\n",
      "Data columns (total 9 columns):\n",
      "AnimalID          26710 non-null object\n",
      "Name              26710 non-null object\n",
      "DateTime          26710 non-null datetime64[ns]\n",
      "OutcomeType       26710 non-null object\n",
      "AnimalType        26710 non-null object\n",
      "SexuponOutcome    26710 non-null object\n",
      "AgeuponOutcome    26710 non-null object\n",
      "Breed             26710 non-null object\n",
      "Color             26710 non-null object\n",
      "dtypes: datetime64[ns](1), object(8)\n",
      "memory usage: 2.0+ MB\n",
      "<class 'pandas.core.frame.DataFrame'>\n",
      "RangeIndex: 11456 entries, 0 to 11455\n",
      "Data columns (total 8 columns):\n",
      "AnimalID          11456 non-null int64\n",
      "Name              11456 non-null object\n",
      "DateTime          11456 non-null datetime64[ns]\n",
      "AnimalType        11456 non-null object\n",
      "SexuponOutcome    11456 non-null object\n",
      "AgeuponOutcome    11456 non-null object\n",
      "Breed             11456 non-null object\n",
      "Color             11456 non-null object\n",
      "dtypes: datetime64[ns](1), int64(1), object(6)\n",
      "memory usage: 716.1+ KB\n"
     ]
    }
   ],
   "source": [
    "#The dates counts are interesting. \n",
    "#They are object types and some are down to the day, some hour and some minute. These look like they need resampling.\n",
    "\n",
    "train['DateTime'] = pd.to_datetime(train['DateTime'])\n",
    "\n",
    "train.info()\n",
    "\n",
    "test['DateTime'] = pd.to_datetime(test['DateTime'])\n",
    "\n",
    "test.info()"
   ]
  },
  {
   "cell_type": "code",
   "execution_count": 16,
   "metadata": {},
   "outputs": [],
   "source": [
    "# functions to get new parameters from the column. #Function taken from another kernal.\n",
    "#The below function turns each row into a string then tries to find a certain string. then returns male/female/neutered to create new features\n",
    "\n",
    "def get_sex(x):\n",
    "    x = str(x)\n",
    "    if x.find('Male') >= 0: return 'male'\n",
    "    if x.find('Female') >= 0: return 'female'\n",
    "    return 'unknown'\n",
    "def get_neutered(x):\n",
    "    x = str(x)\n",
    "    if x.find('Spayed') >= 0: return 'neutered'\n",
    "    if x.find('Neutered') >= 0: return 'neutered'\n",
    "    if x.find('Intact') >= 0: return 'intact'\n",
    "    return 'unknown'"
   ]
  },
  {
   "cell_type": "code",
   "execution_count": 17,
   "metadata": {},
   "outputs": [],
   "source": [
    "train['Sex'] = train.SexuponOutcome.apply(get_sex)\n",
    "train['Neutered'] = train.SexuponOutcome.apply(get_neutered)\n",
    "test['Sex'] = test.SexuponOutcome.apply(get_sex)\n",
    "test['Neutered'] = test.SexuponOutcome.apply(get_neutered)\n",
    "\n"
   ]
  },
  {
   "cell_type": "code",
   "execution_count": 18,
   "metadata": {},
   "outputs": [],
   "source": [
    "def get_mix(x):\n",
    "    x = str(x)\n",
    "    if x.find('Mix') >= 0: return 'mix'\n",
    "    return 'not'\n",
    "train['Mix'] = train.Breed.apply(get_mix)\n",
    "test['Mix'] = test.Breed.apply(get_mix)"
   ]
  },
  {
   "cell_type": "code",
   "execution_count": 19,
   "metadata": {},
   "outputs": [],
   "source": [
    "def calc_age_in_years(x):\n",
    "    x = str(x)\n",
    "    if x == 'nan': return 0\n",
    "    age = int(x.split()[0])\n",
    "    if x.find('year') > -1: return age \n",
    "    if x.find('month')> -1: return age / 12.\n",
    "    if x.find('week')> -1: return age / 52.\n",
    "    if x.find('day')> -1: return age / 365.\n",
    "    else: return 0"
   ]
  },
  {
   "cell_type": "code",
   "execution_count": 20,
   "metadata": {},
   "outputs": [],
   "source": [
    "train['AgeInYears'] = train.AgeuponOutcome.apply(calc_age_in_years)\n",
    "test['AgeInYears'] = test.AgeuponOutcome.apply(calc_age_in_years)"
   ]
  },
  {
   "cell_type": "code",
   "execution_count": 21,
   "metadata": {},
   "outputs": [],
   "source": [
    "#Color - I am going to attempt to bin the colors, into a few core bins to keep memory space to a low but try and grab some signal.\n",
    "\n",
    "def get_color(x):\n",
    "    x = str(x)\n",
    "    if x.find('Tabby') >= 0: return 'Tabby'\n",
    "    if x.find('Black') >= 0: return 'Black'\n",
    "    if x.find('White') >= 0: return 'White'\n",
    "    return 'Other'\n",
    "\n",
    "train['BasicColor'] = train.Color.apply(get_color)\n",
    "test['BasicColor'] = test.Color.apply(get_color)\n",
    "\n",
    "#For names I am going to bin them into two bins, named and not named. As seen through EDA this is a key feature, however including all\n",
    "#names will increase memory by too much.\n",
    "\n",
    "def get_name(x):\n",
    "    x = str(x)\n",
    "    if x.find('No Name') >= 0: return 'No Name'\n",
    "    return 'Name'\n",
    "\n",
    "train['Named'] = train.Name.apply(get_name)\n",
    "test['Named'] = test.Name.apply(get_name)\n",
    "\n"
   ]
  },
  {
   "cell_type": "code",
   "execution_count": 22,
   "metadata": {},
   "outputs": [],
   "source": [
    "#Lets import machine learning modules and start prepping for exploring different models.\n",
    "#I need a classification algorithm which does multi class predictions.\n",
    "from sklearn.model_selection import train_test_split\n",
    "from sklearn.metrics import accuracy_score\n",
    "from sklearn.svm import SVC\n",
    "from sklearn.ensemble import RandomForestClassifier\n",
    "from sklearn.naive_bayes import GaussianNB\n",
    "from sklearn.ensemble import GradientBoostingClassifier\n",
    "from xgboost import XGBClassifier\n",
    "from sklearn.metrics import log_loss\n",
    "from sklearn.linear_model import LogisticRegression\n",
    "import xgboost as xgb\n",
    "from sklearn.model_selection import cross_val_score"
   ]
  },
  {
   "cell_type": "code",
   "execution_count": 23,
   "metadata": {},
   "outputs": [
    {
     "name": "stdout",
     "output_type": "stream",
     "text": [
      "<class 'pandas.core.frame.DataFrame'>\n",
      "Int64Index: 26710 entries, 0 to 26728\n",
      "Data columns (total 15 columns):\n",
      "AnimalID          26710 non-null object\n",
      "Name              26710 non-null object\n",
      "DateTime          26710 non-null datetime64[ns]\n",
      "OutcomeType       26710 non-null object\n",
      "AnimalType        26710 non-null object\n",
      "SexuponOutcome    26710 non-null object\n",
      "AgeuponOutcome    26710 non-null object\n",
      "Breed             26710 non-null object\n",
      "Color             26710 non-null object\n",
      "Sex               26710 non-null object\n",
      "Neutered          26710 non-null object\n",
      "Mix               26710 non-null object\n",
      "AgeInYears        26710 non-null float64\n",
      "BasicColor        26710 non-null object\n",
      "Named             26710 non-null object\n",
      "dtypes: datetime64[ns](1), float64(1), object(13)\n",
      "memory usage: 3.3+ MB\n",
      "<class 'pandas.core.frame.DataFrame'>\n",
      "RangeIndex: 11456 entries, 0 to 11455\n",
      "Data columns (total 14 columns):\n",
      "AnimalID          11456 non-null int64\n",
      "Name              11456 non-null object\n",
      "DateTime          11456 non-null datetime64[ns]\n",
      "AnimalType        11456 non-null object\n",
      "SexuponOutcome    11456 non-null object\n",
      "AgeuponOutcome    11456 non-null object\n",
      "Breed             11456 non-null object\n",
      "Color             11456 non-null object\n",
      "Sex               11456 non-null object\n",
      "Neutered          11456 non-null object\n",
      "Mix               11456 non-null object\n",
      "AgeInYears        11456 non-null float64\n",
      "BasicColor        11456 non-null object\n",
      "Named             11456 non-null object\n",
      "dtypes: datetime64[ns](1), float64(1), int64(1), object(11)\n",
      "memory usage: 1.2+ MB\n"
     ]
    }
   ],
   "source": [
    "train.info()\n",
    "test.info()\n",
    "\n",
    "#Lets view the success of algorithms without using Breed and Color, as these two variables make the data set huge without cleaning them.\n",
    "\n",
    "train = train.drop(['Color','Breed','AnimalID','DateTime','SexuponOutcome','AgeuponOutcome','Name',],axis=1)\n",
    "\n",
    "#The test ID needs to be kept for later. To merge for submission\n",
    "\n",
    "testID = test['AnimalID'] \n",
    "\n",
    "test = test.drop(['Color','Breed','AnimalID','DateTime','SexuponOutcome','AgeuponOutcome','Name'],axis=1)\n",
    "\n",
    "\n"
   ]
  },
  {
   "cell_type": "code",
   "execution_count": 24,
   "metadata": {},
   "outputs": [
    {
     "name": "stdout",
     "output_type": "stream",
     "text": [
      "<class 'pandas.core.frame.DataFrame'>\n",
      "Int64Index: 26710 entries, 0 to 26728\n",
      "Data columns (total 8 columns):\n",
      "OutcomeType    26710 non-null object\n",
      "AnimalType     26710 non-null object\n",
      "Sex            26710 non-null object\n",
      "Neutered       26710 non-null object\n",
      "Mix            26710 non-null object\n",
      "AgeInYears     26710 non-null float64\n",
      "BasicColor     26710 non-null object\n",
      "Named          26710 non-null object\n",
      "dtypes: float64(1), object(7)\n",
      "memory usage: 1.8+ MB\n",
      "<class 'pandas.core.frame.DataFrame'>\n",
      "RangeIndex: 11456 entries, 0 to 11455\n",
      "Data columns (total 7 columns):\n",
      "AnimalType    11456 non-null object\n",
      "Sex           11456 non-null object\n",
      "Neutered      11456 non-null object\n",
      "Mix           11456 non-null object\n",
      "AgeInYears    11456 non-null float64\n",
      "BasicColor    11456 non-null object\n",
      "Named         11456 non-null object\n",
      "dtypes: float64(1), object(6)\n",
      "memory usage: 626.6+ KB\n"
     ]
    }
   ],
   "source": [
    "train.info()\n",
    "test.info()"
   ]
  },
  {
   "cell_type": "code",
   "execution_count": 25,
   "metadata": {},
   "outputs": [],
   "source": [
    "train_feat = train.drop('OutcomeType',axis = 1)\n",
    "train_targ = train['OutcomeType']\n",
    "\n",
    "train_feat = pd.get_dummies(train_feat,columns=['AnimalType','Sex','Neutered','Mix','BasicColor','Named'])\n",
    "test_feat = pd.get_dummies(test,columns=['AnimalType','Sex','Neutered','Mix','BasicColor','Named'])\n",
    "\n",
    "\n"
   ]
  },
  {
   "cell_type": "code",
   "execution_count": 26,
   "metadata": {},
   "outputs": [
    {
     "name": "stdout",
     "output_type": "stream",
     "text": [
      "<class 'pandas.core.frame.DataFrame'>\n",
      "Int64Index: 26710 entries, 0 to 26728\n",
      "Data columns (total 17 columns):\n",
      "AgeInYears           26710 non-null float64\n",
      "AnimalType_Cat       26710 non-null uint8\n",
      "AnimalType_Dog       26710 non-null uint8\n",
      "Sex_female           26710 non-null uint8\n",
      "Sex_male             26710 non-null uint8\n",
      "Sex_unknown          26710 non-null uint8\n",
      "Neutered_intact      26710 non-null uint8\n",
      "Neutered_neutered    26710 non-null uint8\n",
      "Neutered_unknown     26710 non-null uint8\n",
      "Mix_mix              26710 non-null uint8\n",
      "Mix_not              26710 non-null uint8\n",
      "BasicColor_Black     26710 non-null uint8\n",
      "BasicColor_Other     26710 non-null uint8\n",
      "BasicColor_Tabby     26710 non-null uint8\n",
      "BasicColor_White     26710 non-null uint8\n",
      "Named_Name           26710 non-null uint8\n",
      "Named_No Name        26710 non-null uint8\n",
      "dtypes: float64(1), uint8(16)\n",
      "memory usage: 834.7 KB\n"
     ]
    }
   ],
   "source": [
    "train_feat.info()"
   ]
  },
  {
   "cell_type": "code",
   "execution_count": 27,
   "metadata": {},
   "outputs": [
    {
     "name": "stdout",
     "output_type": "stream",
     "text": [
      "1.90776767247\n"
     ]
    }
   ],
   "source": [
    "x_train,x_test,y_train,y_test = train_test_split(train_feat,train_targ,random_state = 42, test_size=0.15,stratify=train_targ)\n",
    "\n",
    "rf = RandomForestClassifier()\n",
    "\n",
    "rf.fit(x_train,y_train)\n",
    "predict = rf.predict_proba(x_test)\n",
    "\n",
    "print(log_loss(y_test,predict))\n"
   ]
  },
  {
   "cell_type": "code",
   "execution_count": 28,
   "metadata": {},
   "outputs": [
    {
     "name": "stdout",
     "output_type": "stream",
     "text": [
      "0.839458806563\n",
      "-0.852016638512\n"
     ]
    },
    {
     "name": "stderr",
     "output_type": "stream",
     "text": [
      "[Parallel(n_jobs=3)]: Done   5 out of   5 | elapsed:   26.7s finished\n"
     ]
    }
   ],
   "source": [
    "gb = GradientBoostingClassifier()\n",
    "\n",
    "gb.fit(x_train,y_train)\n",
    "predict2 = gb.predict_proba(x_test)\n",
    "\n",
    "print(log_loss(y_test,predict2))\n",
    "\n",
    "gb_cv = cross_val_score(gb,x_train,y_train,verbose=1,cv=5,scoring='neg_log_loss',n_jobs=3)\n",
    "\n",
    "print(np.mean(gb_cv))\n",
    "\n",
    "#Current log loss = 0.87 - This includes Age, Animal Type, Sex, Neutered, Mix\n",
    "#Current log loss = 0.84 - This includes Age, Animal Type, Sex, Neutered, Mix,Basic Color, Named\n",
    "#The addition of Color and Name boosted the results by a margin! Good Signal.\n"
   ]
  },
  {
   "cell_type": "code",
   "execution_count": 29,
   "metadata": {},
   "outputs": [
    {
     "data": {
      "image/png": "[encoded data removed]",
      "text/plain": [
       "<matplotlib.figure.Figure at 0x241f0281828>"
      ]
     },
     "metadata": {},
     "output_type": "display_data"
    }
   ],
   "source": [
    "imports = pd.Series(gb.feature_importances_)\n",
    "columns = pd.Series(x_train.columns)\n",
    "\n",
    "importance = pd.DataFrame({'Importance': imports,'Feature': columns})\n",
    "\n",
    "importance.plot(kind='bar')\n",
    "\n",
    "plt.xlabel(importance['Feature'])\n",
    "plt.show()\n",
    "\n",
    "#Recommendations for the shelter? Ensure that animals are named as soon as they enter the shelter, this could help with adoption.\n",
    "#If the animals are not neutered, get it done. This will increase their chances of adoption\n",
    "#The following segments are for experimentation\n"
   ]
  },
  {
   "cell_type": "code",
   "execution_count": 33,
   "metadata": {},
   "outputs": [
    {
     "name": "stdout",
     "output_type": "stream",
     "text": [
      "5.62384415927\n"
     ]
    }
   ],
   "source": [
    "NB = GaussianNB()\n",
    "\n",
    "NB.fit(x_train,y_train)\n",
    "predict3 = NB.predict_proba(x_test)\n",
    "\n",
    "print(log_loss(y_test,predict3))\n",
    "\n",
    "#Naive Bayes performs very poorly on this task.\n"
   ]
  },
  {
   "cell_type": "code",
   "execution_count": 34,
   "metadata": {},
   "outputs": [
    {
     "name": "stdout",
     "output_type": "stream",
     "text": [
      "0.920911775514\n"
     ]
    }
   ],
   "source": [
    "lr = LogisticRegression()\n",
    "\n",
    "lr.fit(x_train,y_train)\n",
    "predict4 = lr.predict_proba(x_test)\n",
    "\n",
    "print(log_loss(y_test,predict4))\n",
    "\n",
    "#Logreg doesnt perform very well.\n"
   ]
  },
  {
   "cell_type": "code",
   "execution_count": 35,
   "metadata": {},
   "outputs": [],
   "source": [
    "x_train = x_train.values\n",
    "x_test = x_test.values\n",
    "y_train = y_train.values\n",
    "y_test = y_test.values"
   ]
  },
  {
   "cell_type": "code",
   "execution_count": 36,
   "metadata": {},
   "outputs": [
    {
     "name": "stdout",
     "output_type": "stream",
     "text": [
      "0.878403610136\n"
     ]
    },
    {
     "name": "stderr",
     "output_type": "stream",
     "text": [
      "[Parallel(n_jobs=3)]: Done   3 out of   5 | elapsed:  1.3min remaining:   53.0s\n"
     ]
    },
    {
     "name": "stdout",
     "output_type": "stream",
     "text": [
      "-0.910269450938\n"
     ]
    },
    {
     "name": "stderr",
     "output_type": "stream",
     "text": [
      "[Parallel(n_jobs=3)]: Done   5 out of   5 | elapsed:  2.3min finished\n"
     ]
    }
   ],
   "source": [
    "from sklearn.preprocessing import LabelEncoder\n",
    "from xgboost import XGBClassifier\n",
    "from sklearn.model_selection import GridSearchCV\n",
    "\n",
    "xgb_model = XGBClassifier(objective = \"multi:softprob\",booster = \"gbtree\",learning_rate=0.05,colsample_bytree=0.8,subsample = 0.8, max_depth = 250,scale_pos_weight=1,n_estimators=200,num_class = 5,early_stopping_rounds=4)\n",
    "\n",
    "xgb_model.fit(x_train,y_train)\n",
    "\n",
    "pred_5 = xgb_model.predict_proba(x_test)\n",
    "\n",
    "print(log_loss(y_test,pred_5))\n",
    "\n",
    "xgb_cv = cross_val_score(xgb_model,x_train,y_train,verbose=2,cv=5,scoring='neg_log_loss',n_jobs=3)\n",
    "\n",
    "print(np.mean(xgb_cv))\n",
    "\n",
    "#Current log loss = 0.87 - This includes Age, Animal Type, Sex, Neutered, Mix\n",
    "\n",
    "#Experimental test using xgboost. Didn't get the best results."
   ]
  },
  {
   "cell_type": "markdown",
   "metadata": {},
   "source": [
    "# param_test1 = {\n",
    " 'max_depth':range(3,10,2),\n",
    " 'min_child_weight':range(1,6,2)\n",
    "}\n",
    "gsearch1 = GridSearchCV(estimator = XGBClassifier( learning_rate =0.1, n_estimators=140, max_depth=5,\n",
    " min_child_weight=1, gamma=0, subsample=0.8, colsample_bytree=0.8,\n",
    " objective= 'multi:softprob', nthread=4, scale_pos_weight=1, seed=27), \n",
    " param_grid = param_test1, scoring='neg_log_loss',n_jobs=4,iid=False, cv=5)\n",
    "\n",
    "gsearch1.fit(x_train,y_train,eval_set=[(x_train, y_train), (x_test, y_test)], eval_metric='mlogloss', verbose=True)\n",
    "\n",
    "gsearch1.grid_scores_, gsearch1.best_params_, gsearch1.best_score_"
   ]
  },
  {
   "cell_type": "code",
   "execution_count": null,
   "metadata": {},
   "outputs": [],
   "source": []
  }
 ],
 "metadata": {
  "kernelspec": {
   "display_name": "Python 3",
   "language": "python",
   "name": "python3"
  },
  "language_info": {
   "codemirror_mode": {
    "name": "ipython",
    "version": 3
   },
   "file_extension": ".py",
   "mimetype": "text/x-python",
   "name": "python",
   "nbconvert_exporter": "python",
   "pygments_lexer": "ipython3",
   "version": "3.6.3"
  }
 },
 "nbformat": 4,
 "nbformat_minor": 2
}
